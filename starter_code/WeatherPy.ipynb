{
 "cells": [
  {
   "cell_type": "markdown",
   "metadata": {},
   "source": [
    "# WeatherPy\n",
    "----\n",
    "\n",
    "#### Note\n",
    "* Instructions have been included for each segment. You do not have to follow them exactly, but they are included to help you think through the steps."
   ]
  },
  {
   "cell_type": "code",
   "execution_count": 19,
   "metadata": {
    "scrolled": true
   },
   "outputs": [],
   "source": [
    "# Dependencies and Setup\n",
    "import matplotlib.pyplot as plt\n",
    "import pandas as pd\n",
    "import numpy as np\n",
    "import requests\n",
    "import time\n",
    "from scipy.stats import linregress\n",
    "\n",
    "# Import API key\n",
    "from api_keys import weather_api_key\n",
    "\n",
    "# Incorporated citipy to determine city based on latitude and longitude\n",
    "from citipy import citipy\n",
    "\n",
    "# Output File (CSV)\n",
    "output_data_file = \"output_data/cities.csv\"\n",
    "\n",
    "# Range of latitudes and longitudes\n",
    "lat_range = (-90, 90)\n",
    "lng_range = (-180, 180)"
   ]
  },
  {
   "cell_type": "markdown",
   "metadata": {},
   "source": [
    "## Generate Cities List"
   ]
  },
  {
   "cell_type": "code",
   "execution_count": 2,
   "metadata": {},
   "outputs": [
    {
     "data": {
      "text/plain": [
       "623"
      ]
     },
     "execution_count": 2,
     "metadata": {},
     "output_type": "execute_result"
    }
   ],
   "source": [
    "# List for holding lat_lngs and cities\n",
    "lat_lngs = []\n",
    "cities = []\n",
    "\n",
    "# Create a set of random lat and lng combinations\n",
    "lats = np.random.uniform(lat_range[0], lat_range[1], size=1500)\n",
    "lngs = np.random.uniform(lng_range[0], lng_range[1], size=1500)\n",
    "lat_lngs = zip(lats, lngs)\n",
    "\n",
    "# Identify nearest city for each lat, lng combination\n",
    "for lat_lng in lat_lngs:\n",
    "    city = citipy.nearest_city(lat_lng[0], lat_lng[1]).city_name\n",
    "    \n",
    "    # If the city is unique, then add it to a our cities list\n",
    "    if city not in cities:\n",
    "        cities.append(city)\n",
    "\n",
    "# Print the city count to confirm sufficient count\n",
    "len(cities)"
   ]
  },
  {
   "cell_type": "markdown",
   "metadata": {},
   "source": [
    "### Perform API Calls\n",
    "* Perform a weather check on each city using a series of successive API calls.\n",
    "* Include a print log of each city as it'sbeing processed (with the city number and city name).\n"
   ]
  },
  {
   "cell_type": "code",
   "execution_count": 6,
   "metadata": {
    "scrolled": true
   },
   "outputs": [
    {
     "name": "stdout",
     "output_type": "stream",
     "text": [
      "Beginning Data Retrieval\n",
      "-----------------------------\n",
      "Processing Record 2 of Set 1 | hosanagara\n",
      "Processing Record 3 of Set 1 | albany\n",
      "City not found. Skipping...\n",
      "Processing Record 4 of Set 1 | rikitea\n",
      "City not found. Skipping...\n",
      "Processing Record 5 of Set 1 | port alfred\n",
      "Processing Record 6 of Set 1 | collie\n",
      "Processing Record 7 of Set 1 | esperance\n",
      "Processing Record 8 of Set 1 | barrow\n",
      "Processing Record 9 of Set 1 | westport\n",
      "Processing Record 10 of Set 1 | xingyi\n",
      "Processing Record 11 of Set 1 | yaan\n",
      "Processing Record 12 of Set 1 | jamestown\n",
      "Processing Record 13 of Set 1 | kalmunai\n",
      "Processing Record 14 of Set 1 | hermanus\n",
      "Processing Record 15 of Set 1 | sarangani\n",
      "Processing Record 16 of Set 1 | buraydah\n",
      "Processing Record 17 of Set 1 | clyde river\n",
      "Processing Record 18 of Set 1 | ushuaia\n",
      "Processing Record 19 of Set 1 | bluff\n",
      "Processing Record 20 of Set 1 | bathsheba\n",
      "Processing Record 21 of Set 1 | chuy\n",
      "Processing Record 22 of Set 1 | faya\n",
      "Processing Record 23 of Set 1 | punta arenas\n",
      "Processing Record 24 of Set 1 | pisco\n",
      "Processing Record 25 of Set 1 | krasnyy klyuch\n",
      "Processing Record 26 of Set 1 | rigaud\n",
      "Processing Record 27 of Set 1 | mahebourg\n",
      "Processing Record 28 of Set 1 | ostrovnoy\n",
      "Processing Record 29 of Set 1 | cabo san lucas\n",
      "Processing Record 30 of Set 1 | aykhal\n",
      "Processing Record 31 of Set 1 | broome\n",
      "Processing Record 32 of Set 1 | marbella\n",
      "Processing Record 33 of Set 1 | deming\n",
      "City not found. Skipping...\n",
      "Processing Record 34 of Set 1 | balykshi\n",
      "Processing Record 35 of Set 1 | klaksvik\n",
      "Processing Record 36 of Set 1 | westerland\n",
      "Processing Record 37 of Set 1 | umm kaddadah\n",
      "Processing Record 38 of Set 1 | wonthaggi\n",
      "Processing Record 39 of Set 1 | kavaratti\n",
      "Processing Record 40 of Set 1 | nancha\n",
      "Processing Record 41 of Set 1 | yarim\n",
      "Processing Record 42 of Set 1 | provideniya\n",
      "Processing Record 43 of Set 1 | finschhafen\n",
      "Processing Record 44 of Set 1 | igarka\n",
      "Processing Record 45 of Set 1 | busselton\n",
      "Processing Record 46 of Set 1 | chokurdakh\n",
      "Processing Record 47 of Set 1 | sitka\n",
      "Processing Record 48 of Set 1 | longyearbyen\n",
      "Processing Record 49 of Set 1 | carnarvon\n",
      "Processing Record 50 of Set 1 | chaman\n",
      "Processing Record 1 of Set 2 | talcahuano\n",
      "Processing Record 2 of Set 2 | bonito\n",
      "Processing Record 3 of Set 2 | qaanaaq\n",
      "Processing Record 4 of Set 2 | asamankese\n",
      "Processing Record 5 of Set 2 | atuona\n",
      "Processing Record 6 of Set 2 | ribeira grande\n",
      "Processing Record 7 of Set 2 | khatanga\n",
      "City not found. Skipping...\n",
      "Processing Record 8 of Set 2 | matam\n",
      "Processing Record 9 of Set 2 | georgetown\n",
      "City not found. Skipping...\n",
      "Processing Record 10 of Set 2 | kapaa\n",
      "Processing Record 11 of Set 2 | codrington\n",
      "Processing Record 12 of Set 2 | sakakah\n",
      "Processing Record 13 of Set 2 | yellowknife\n",
      "Processing Record 14 of Set 2 | new norfolk\n",
      "Processing Record 15 of Set 2 | slatyne\n",
      "Processing Record 16 of Set 2 | tura\n",
      "Processing Record 17 of Set 2 | cidreira\n",
      "Processing Record 18 of Set 2 | brus laguna\n",
      "Processing Record 19 of Set 2 | havre-saint-pierre\n",
      "Processing Record 20 of Set 2 | lebu\n",
      "Processing Record 21 of Set 2 | torbay\n",
      "Processing Record 22 of Set 2 | jacareacanga\n",
      "Processing Record 23 of Set 2 | shingu\n",
      "Processing Record 24 of Set 2 | gomel\n",
      "Processing Record 25 of Set 2 | saldanha\n",
      "Processing Record 26 of Set 2 | auki\n",
      "Processing Record 27 of Set 2 | butaritari\n",
      "Processing Record 28 of Set 2 | hobart\n",
      "Processing Record 29 of Set 2 | ahipara\n",
      "Processing Record 30 of Set 2 | bredasdorp\n",
      "Processing Record 31 of Set 2 | vilyuysk\n",
      "Processing Record 32 of Set 2 | husavik\n",
      "Processing Record 33 of Set 2 | saint george\n",
      "Processing Record 34 of Set 2 | aklavik\n",
      "Processing Record 35 of Set 2 | mayo\n",
      "Processing Record 36 of Set 2 | costinesti\n",
      "Processing Record 37 of Set 2 | ariogala\n",
      "Processing Record 38 of Set 2 | upernavik\n",
      "Processing Record 39 of Set 2 | hasaki\n",
      "Processing Record 40 of Set 2 | harrison\n",
      "Processing Record 41 of Set 2 | east london\n",
      "Processing Record 42 of Set 2 | avarua\n",
      "Processing Record 43 of Set 2 | luderitz\n",
      "City not found. Skipping...\n",
      "Processing Record 44 of Set 2 | baiquan\n",
      "Processing Record 45 of Set 2 | hithadhoo\n",
      "Processing Record 46 of Set 2 | oranjestad\n",
      "Processing Record 47 of Set 2 | mataura\n",
      "Processing Record 48 of Set 2 | palembang\n",
      "Processing Record 49 of Set 2 | ancud\n",
      "Processing Record 50 of Set 2 | sabha\n",
      "City not found. Skipping...\n",
      "Processing Record 1 of Set 3 | saint-joseph\n",
      "Processing Record 2 of Set 3 | dikson\n",
      "Processing Record 3 of Set 3 | tonj\n",
      "Processing Record 4 of Set 3 | puerto ayora\n",
      "City not found. Skipping...\n",
      "Processing Record 5 of Set 3 | eyl\n",
      "Processing Record 6 of Set 3 | san patricio\n",
      "Processing Record 7 of Set 3 | lagoa\n",
      "Processing Record 8 of Set 3 | iqaluit\n",
      "Processing Record 9 of Set 3 | severo-kurilsk\n",
      "Processing Record 10 of Set 3 | serebryansk\n",
      "City not found. Skipping...\n",
      "Processing Record 11 of Set 3 | amahai\n",
      "Processing Record 12 of Set 3 | kaitangata\n",
      "Processing Record 13 of Set 3 | pimienta\n",
      "Processing Record 14 of Set 3 | saint-philippe\n",
      "Processing Record 15 of Set 3 | asfi\n",
      "Processing Record 16 of Set 3 | grants\n",
      "Processing Record 17 of Set 3 | bambous virieux\n",
      "Processing Record 18 of Set 3 | tasiilaq\n",
      "Processing Record 19 of Set 3 | bogorodskoye\n",
      "Processing Record 20 of Set 3 | port lincoln\n",
      "Processing Record 21 of Set 3 | los llanos de aridane\n",
      "Processing Record 22 of Set 3 | mount isa\n",
      "City not found. Skipping...\n",
      "Processing Record 23 of Set 3 | brigantine\n",
      "Processing Record 24 of Set 3 | villazon\n",
      "Processing Record 25 of Set 3 | beyneu\n",
      "Processing Record 26 of Set 3 | kupang\n",
      "Processing Record 27 of Set 3 | tiksi\n",
      "Processing Record 28 of Set 3 | fortuna\n",
      "Processing Record 29 of Set 3 | bethanien\n",
      "Processing Record 30 of Set 3 | darhan\n",
      "Processing Record 31 of Set 3 | kushiro\n",
      "Processing Record 32 of Set 3 | novaya ladoga\n",
      "Processing Record 33 of Set 3 | arlit\n",
      "Processing Record 34 of Set 3 | kutum\n",
      "Processing Record 35 of Set 3 | puqi\n",
      "Processing Record 36 of Set 3 | nikolskoye\n",
      "Processing Record 37 of Set 3 | saskylakh\n",
      "City not found. Skipping...\n",
      "Processing Record 38 of Set 3 | daru\n",
      "Processing Record 39 of Set 3 | semporna\n",
      "Processing Record 40 of Set 3 | bella vista\n",
      "Processing Record 41 of Set 3 | iralaya\n",
      "Processing Record 42 of Set 3 | bonfim\n",
      "Processing Record 43 of Set 3 | tongzi\n",
      "City not found. Skipping...\n",
      "Processing Record 44 of Set 3 | cape town\n",
      "Processing Record 45 of Set 3 | zhigansk\n",
      "Processing Record 46 of Set 3 | riviere-au-renard\n",
      "City not found. Skipping...\n",
      "Processing Record 47 of Set 3 | narsaq\n",
      "Processing Record 48 of Set 3 | menongue\n",
      "Processing Record 49 of Set 3 | beringovskiy\n",
      "Processing Record 50 of Set 3 | delvada\n",
      "Processing Record 1 of Set 4 | pizarro\n",
      "Processing Record 2 of Set 4 | eureka\n",
      "Processing Record 3 of Set 4 | clearwater\n",
      "Processing Record 4 of Set 4 | port elizabeth\n",
      "City not found. Skipping...\n",
      "Processing Record 5 of Set 4 | kavieng\n",
      "Processing Record 6 of Set 4 | dingle\n",
      "Processing Record 7 of Set 4 | kahului\n",
      "Processing Record 8 of Set 4 | bengkulu\n",
      "Processing Record 9 of Set 4 | kodinar\n",
      "Processing Record 10 of Set 4 | port macquarie\n",
      "Processing Record 11 of Set 4 | san cristobal\n",
      "Processing Record 12 of Set 4 | marstal\n",
      "Processing Record 13 of Set 4 | yeppoon\n",
      "Processing Record 14 of Set 4 | kuah\n",
      "Processing Record 15 of Set 4 | linxia\n",
      "Processing Record 16 of Set 4 | cockburn town\n",
      "Processing Record 17 of Set 4 | bartica\n",
      "Processing Record 18 of Set 4 | castro\n",
      "Processing Record 19 of Set 4 | barentu\n",
      "Processing Record 20 of Set 4 | hamilton\n",
      "Processing Record 21 of Set 4 | bairiki\n",
      "City not found. Skipping...\n",
      "Processing Record 22 of Set 4 | okhotsk\n",
      "Processing Record 23 of Set 4 | talaya\n",
      "Processing Record 24 of Set 4 | talnakh\n",
      "Processing Record 25 of Set 4 | constitucion\n",
      "Processing Record 26 of Set 4 | ugoofaaru\n",
      "Processing Record 27 of Set 4 | vestmanna\n",
      "Processing Record 28 of Set 4 | trinidad\n",
      "Processing Record 29 of Set 4 | boca do acre\n",
      "Processing Record 30 of Set 4 | taoudenni\n",
      "Processing Record 31 of Set 4 | ponta do sol\n",
      "Processing Record 32 of Set 4 | fare\n",
      "Processing Record 33 of Set 4 | kandrian\n",
      "Processing Record 34 of Set 4 | sao joao da barra\n",
      "Processing Record 35 of Set 4 | souillac\n",
      "Processing Record 36 of Set 4 | ajaccio\n",
      "Processing Record 37 of Set 4 | churachandpur\n",
      "Processing Record 38 of Set 4 | sundsvall\n",
      "Processing Record 39 of Set 4 | sistranda\n"
     ]
    },
    {
     "name": "stdout",
     "output_type": "stream",
     "text": [
      "Processing Record 40 of Set 4 | arraial do cabo\n",
      "City not found. Skipping...\n",
      "City not found. Skipping...\n",
      "Processing Record 41 of Set 4 | gardez\n",
      "City not found. Skipping...\n",
      "Processing Record 42 of Set 4 | palora\n",
      "Processing Record 43 of Set 4 | aksarka\n",
      "Processing Record 44 of Set 4 | millau\n",
      "Processing Record 45 of Set 4 | bilibino\n",
      "Processing Record 46 of Set 4 | hami\n",
      "Processing Record 47 of Set 4 | pevek\n",
      "Processing Record 48 of Set 4 | waipawa\n",
      "Processing Record 49 of Set 4 | bull savanna\n",
      "Processing Record 50 of Set 4 | gotsu\n",
      "Processing Record 1 of Set 5 | tefe\n",
      "Processing Record 2 of Set 5 | russell\n",
      "Processing Record 3 of Set 5 | adrar\n",
      "Processing Record 4 of Set 5 | kamaishi\n",
      "Processing Record 5 of Set 5 | vestmannaeyjar\n",
      "Processing Record 6 of Set 5 | te anau\n",
      "Processing Record 7 of Set 5 | qui nhon\n",
      "Processing Record 8 of Set 5 | ovalle\n",
      "Processing Record 9 of Set 5 | manggar\n",
      "City not found. Skipping...\n",
      "Processing Record 10 of Set 5 | foam lake\n",
      "Processing Record 11 of Set 5 | sao filipe\n",
      "Processing Record 12 of Set 5 | coihaique\n",
      "Processing Record 13 of Set 5 | vydrino\n",
      "Processing Record 14 of Set 5 | chicama\n",
      "Processing Record 15 of Set 5 | richards bay\n",
      "Processing Record 16 of Set 5 | upington\n",
      "Processing Record 17 of Set 5 | kieta\n",
      "Processing Record 18 of Set 5 | simpang\n",
      "Processing Record 19 of Set 5 | kirovo-chepetsk\n",
      "Processing Record 20 of Set 5 | inhambane\n",
      "Processing Record 21 of Set 5 | asheville\n",
      "City not found. Skipping...\n",
      "Processing Record 22 of Set 5 | benjamin hill\n",
      "Processing Record 23 of Set 5 | evensk\n",
      "Processing Record 24 of Set 5 | viedma\n",
      "Processing Record 25 of Set 5 | northam\n",
      "Processing Record 26 of Set 5 | santa maria\n",
      "Processing Record 27 of Set 5 | lavrentiya\n",
      "Processing Record 28 of Set 5 | bethel\n",
      "Processing Record 29 of Set 5 | belmonte\n",
      "Processing Record 30 of Set 5 | ust-ilimsk\n",
      "Processing Record 31 of Set 5 | lata\n",
      "Processing Record 32 of Set 5 | vostok\n",
      "Processing Record 33 of Set 5 | cherskiy\n",
      "City not found. Skipping...\n",
      "Processing Record 34 of Set 5 | thompson\n",
      "Processing Record 35 of Set 5 | north bend\n",
      "Processing Record 36 of Set 5 | xining\n",
      "Processing Record 37 of Set 5 | victoria\n",
      "Processing Record 38 of Set 5 | aksu\n",
      "Processing Record 39 of Set 5 | vaini\n",
      "Processing Record 40 of Set 5 | phan thiet\n",
      "Processing Record 41 of Set 5 | malanje\n",
      "Processing Record 42 of Set 5 | port hardy\n",
      "Processing Record 43 of Set 5 | emerald\n",
      "Processing Record 44 of Set 5 | raudeberg\n",
      "Processing Record 45 of Set 5 | caravelas\n",
      "Processing Record 46 of Set 5 | aguimes\n",
      "Processing Record 47 of Set 5 | hilo\n",
      "Processing Record 48 of Set 5 | manjacaze\n",
      "City not found. Skipping...\n",
      "Processing Record 49 of Set 5 | tautira\n",
      "Processing Record 50 of Set 5 | krasnoselkup\n",
      "Processing Record 1 of Set 6 | nome\n",
      "Processing Record 2 of Set 6 | dunedin\n",
      "Processing Record 3 of Set 6 | nara\n",
      "Processing Record 4 of Set 6 | ipswich\n",
      "Processing Record 5 of Set 6 | moussoro\n",
      "Processing Record 6 of Set 6 | sabla\n",
      "Processing Record 7 of Set 6 | laguna\n",
      "Processing Record 8 of Set 6 | eenhana\n",
      "Processing Record 9 of Set 6 | kodiak\n",
      "Processing Record 10 of Set 6 | labuhan\n",
      "Processing Record 11 of Set 6 | hanna\n",
      "Processing Record 12 of Set 6 | oranjemund\n",
      "Processing Record 13 of Set 6 | rabo de peixe\n",
      "Processing Record 14 of Set 6 | lompoc\n",
      "Processing Record 15 of Set 6 | popondetta\n",
      "Processing Record 16 of Set 6 | tual\n",
      "Processing Record 17 of Set 6 | mar del plata\n",
      "Processing Record 18 of Set 6 | puri\n",
      "Processing Record 19 of Set 6 | bhunya\n",
      "Processing Record 20 of Set 6 | la ronge\n",
      "Processing Record 21 of Set 6 | alofi\n",
      "Processing Record 22 of Set 6 | sucua\n",
      "Processing Record 23 of Set 6 | prescott\n",
      "Processing Record 24 of Set 6 | norman wells\n",
      "Processing Record 25 of Set 6 | ilam\n",
      "Processing Record 26 of Set 6 | astana\n",
      "Processing Record 27 of Set 6 | sokolo\n",
      "Processing Record 28 of Set 6 | hurghada\n",
      "Processing Record 29 of Set 6 | pontianak\n",
      "Processing Record 30 of Set 6 | kalmar\n",
      "City not found. Skipping...\n",
      "Processing Record 31 of Set 6 | gao\n",
      "Processing Record 32 of Set 6 | qarqin\n",
      "Processing Record 33 of Set 6 | borzya\n",
      "Processing Record 34 of Set 6 | osoyoos\n",
      "Processing Record 35 of Set 6 | altamira\n",
      "City not found. Skipping...\n",
      "Processing Record 36 of Set 6 | gladstone\n",
      "Processing Record 37 of Set 6 | uglekamensk\n",
      "Processing Record 38 of Set 6 | asau\n",
      "Processing Record 39 of Set 6 | george\n",
      "Processing Record 40 of Set 6 | santa marinella\n",
      "Processing Record 41 of Set 6 | half moon bay\n",
      "Processing Record 42 of Set 6 | lashio\n",
      "Processing Record 43 of Set 6 | harrisonville\n",
      "City not found. Skipping...\n",
      "City not found. Skipping...\n",
      "City not found. Skipping...\n",
      "City not found. Skipping...\n",
      "City not found. Skipping...\n",
      "City not found. Skipping...\n",
      "City not found. Skipping...\n",
      "City not found. Skipping...\n",
      "City not found. Skipping...\n",
      "City not found. Skipping...\n",
      "City not found. Skipping...\n",
      "City not found. Skipping...\n",
      "City not found. Skipping...\n",
      "City not found. Skipping...\n",
      "City not found. Skipping...\n",
      "City not found. Skipping...\n",
      "City not found. Skipping...\n",
      "City not found. Skipping...\n",
      "City not found. Skipping...\n",
      "City not found. Skipping...\n",
      "City not found. Skipping...\n",
      "City not found. Skipping...\n",
      "City not found. Skipping...\n",
      "City not found. Skipping...\n",
      "City not found. Skipping...\n",
      "City not found. Skipping...\n",
      "City not found. Skipping...\n",
      "City not found. Skipping...\n",
      "City not found. Skipping...\n",
      "City not found. Skipping...\n",
      "City not found. Skipping...\n",
      "City not found. Skipping...\n",
      "City not found. Skipping...\n",
      "City not found. Skipping...\n",
      "City not found. Skipping...\n",
      "City not found. Skipping...\n",
      "City not found. Skipping...\n",
      "City not found. Skipping...\n",
      "City not found. Skipping...\n",
      "City not found. Skipping...\n",
      "City not found. Skipping...\n",
      "City not found. Skipping...\n",
      "City not found. Skipping...\n",
      "City not found. Skipping...\n",
      "City not found. Skipping...\n",
      "City not found. Skipping...\n",
      "City not found. Skipping...\n",
      "City not found. Skipping...\n",
      "City not found. Skipping...\n",
      "City not found. Skipping...\n",
      "City not found. Skipping...\n",
      "City not found. Skipping...\n",
      "City not found. Skipping...\n",
      "City not found. Skipping...\n",
      "City not found. Skipping...\n",
      "City not found. Skipping...\n",
      "City not found. Skipping...\n",
      "City not found. Skipping...\n",
      "City not found. Skipping...\n",
      "City not found. Skipping...\n",
      "City not found. Skipping...\n",
      "City not found. Skipping...\n",
      "City not found. Skipping...\n",
      "City not found. Skipping...\n",
      "City not found. Skipping...\n",
      "City not found. Skipping...\n",
      "City not found. Skipping...\n",
      "City not found. Skipping...\n",
      "City not found. Skipping...\n",
      "City not found. Skipping...\n",
      "City not found. Skipping...\n",
      "City not found. Skipping...\n",
      "City not found. Skipping...\n",
      "City not found. Skipping...\n",
      "City not found. Skipping...\n",
      "City not found. Skipping...\n",
      "City not found. Skipping...\n",
      "City not found. Skipping...\n",
      "City not found. Skipping...\n",
      "City not found. Skipping...\n",
      "City not found. Skipping...\n",
      "City not found. Skipping...\n",
      "City not found. Skipping...\n",
      "City not found. Skipping...\n",
      "City not found. Skipping...\n",
      "City not found. Skipping...\n",
      "City not found. Skipping...\n",
      "City not found. Skipping...\n",
      "City not found. Skipping...\n",
      "City not found. Skipping...\n",
      "City not found. Skipping...\n",
      "City not found. Skipping...\n",
      "City not found. Skipping...\n",
      "City not found. Skipping...\n",
      "City not found. Skipping...\n",
      "City not found. Skipping...\n",
      "City not found. Skipping...\n",
      "City not found. Skipping...\n",
      "City not found. Skipping...\n",
      "City not found. Skipping...\n",
      "City not found. Skipping...\n",
      "City not found. Skipping...\n",
      "City not found. Skipping...\n",
      "City not found. Skipping...\n",
      "City not found. Skipping...\n",
      "City not found. Skipping...\n",
      "City not found. Skipping...\n",
      "City not found. Skipping...\n",
      "City not found. Skipping...\n",
      "City not found. Skipping...\n",
      "City not found. Skipping...\n",
      "City not found. Skipping...\n",
      "City not found. Skipping...\n",
      "City not found. Skipping...\n",
      "City not found. Skipping...\n",
      "City not found. Skipping...\n",
      "City not found. Skipping...\n",
      "City not found. Skipping...\n",
      "City not found. Skipping...\n",
      "City not found. Skipping...\n",
      "City not found. Skipping...\n",
      "City not found. Skipping...\n",
      "City not found. Skipping...\n",
      "City not found. Skipping...\n",
      "City not found. Skipping...\n",
      "City not found. Skipping...\n",
      "City not found. Skipping...\n",
      "City not found. Skipping...\n",
      "City not found. Skipping...\n",
      "City not found. Skipping...\n",
      "City not found. Skipping...\n",
      "City not found. Skipping...\n",
      "City not found. Skipping...\n",
      "City not found. Skipping...\n"
     ]
    },
    {
     "name": "stdout",
     "output_type": "stream",
     "text": [
      "City not found. Skipping...\n",
      "City not found. Skipping...\n",
      "City not found. Skipping...\n",
      "City not found. Skipping...\n",
      "City not found. Skipping...\n",
      "City not found. Skipping...\n",
      "City not found. Skipping...\n",
      "City not found. Skipping...\n",
      "City not found. Skipping...\n",
      "City not found. Skipping...\n",
      "City not found. Skipping...\n",
      "City not found. Skipping...\n",
      "City not found. Skipping...\n",
      "City not found. Skipping...\n",
      "City not found. Skipping...\n",
      "City not found. Skipping...\n",
      "City not found. Skipping...\n",
      "City not found. Skipping...\n",
      "City not found. Skipping...\n",
      "City not found. Skipping...\n",
      "City not found. Skipping...\n",
      "City not found. Skipping...\n",
      "City not found. Skipping...\n",
      "City not found. Skipping...\n",
      "City not found. Skipping...\n",
      "City not found. Skipping...\n",
      "City not found. Skipping...\n",
      "City not found. Skipping...\n",
      "City not found. Skipping...\n",
      "City not found. Skipping...\n",
      "City not found. Skipping...\n",
      "City not found. Skipping...\n",
      "City not found. Skipping...\n",
      "City not found. Skipping...\n",
      "City not found. Skipping...\n",
      "City not found. Skipping...\n",
      "City not found. Skipping...\n",
      "City not found. Skipping...\n",
      "City not found. Skipping...\n",
      "City not found. Skipping...\n",
      "City not found. Skipping...\n",
      "City not found. Skipping...\n",
      "City not found. Skipping...\n",
      "City not found. Skipping...\n",
      "City not found. Skipping...\n",
      "City not found. Skipping...\n",
      "City not found. Skipping...\n",
      "City not found. Skipping...\n",
      "City not found. Skipping...\n",
      "City not found. Skipping...\n",
      "City not found. Skipping...\n",
      "City not found. Skipping...\n",
      "City not found. Skipping...\n",
      "City not found. Skipping...\n",
      "City not found. Skipping...\n",
      "City not found. Skipping...\n",
      "City not found. Skipping...\n",
      "City not found. Skipping...\n",
      "City not found. Skipping...\n",
      "City not found. Skipping...\n",
      "City not found. Skipping...\n",
      "City not found. Skipping...\n",
      "City not found. Skipping...\n",
      "City not found. Skipping...\n",
      "City not found. Skipping...\n",
      "City not found. Skipping...\n",
      "City not found. Skipping...\n",
      "City not found. Skipping...\n",
      "City not found. Skipping...\n",
      "City not found. Skipping...\n",
      "City not found. Skipping...\n",
      "City not found. Skipping...\n",
      "City not found. Skipping...\n",
      "City not found. Skipping...\n",
      "City not found. Skipping...\n",
      "City not found. Skipping...\n",
      "City not found. Skipping...\n",
      "City not found. Skipping...\n",
      "City not found. Skipping...\n",
      "City not found. Skipping...\n",
      "City not found. Skipping...\n",
      "City not found. Skipping...\n",
      "City not found. Skipping...\n",
      "City not found. Skipping...\n",
      "City not found. Skipping...\n",
      "City not found. Skipping...\n",
      "City not found. Skipping...\n",
      "City not found. Skipping...\n",
      "City not found. Skipping...\n",
      "City not found. Skipping...\n",
      "City not found. Skipping...\n",
      "City not found. Skipping...\n",
      "City not found. Skipping...\n",
      "City not found. Skipping...\n",
      "City not found. Skipping...\n",
      "City not found. Skipping...\n",
      "City not found. Skipping...\n",
      "City not found. Skipping...\n",
      "City not found. Skipping...\n",
      "City not found. Skipping...\n",
      "City not found. Skipping...\n",
      "City not found. Skipping...\n",
      "City not found. Skipping...\n",
      "City not found. Skipping...\n",
      "City not found. Skipping...\n",
      "City not found. Skipping...\n",
      "City not found. Skipping...\n",
      "City not found. Skipping...\n",
      "City not found. Skipping...\n",
      "City not found. Skipping...\n",
      "City not found. Skipping...\n",
      "City not found. Skipping...\n",
      "City not found. Skipping...\n",
      "City not found. Skipping...\n",
      "City not found. Skipping...\n",
      "City not found. Skipping...\n",
      "City not found. Skipping...\n",
      "City not found. Skipping...\n",
      "City not found. Skipping...\n",
      "City not found. Skipping...\n",
      "City not found. Skipping...\n",
      "City not found. Skipping...\n",
      "City not found. Skipping...\n",
      "City not found. Skipping...\n",
      "City not found. Skipping...\n",
      "City not found. Skipping...\n",
      "City not found. Skipping...\n",
      "City not found. Skipping...\n",
      "City not found. Skipping...\n",
      "City not found. Skipping...\n",
      "City not found. Skipping...\n",
      "City not found. Skipping...\n",
      "City not found. Skipping...\n",
      "City not found. Skipping...\n",
      "City not found. Skipping...\n",
      "City not found. Skipping...\n",
      "City not found. Skipping...\n",
      "City not found. Skipping...\n",
      "City not found. Skipping...\n",
      "City not found. Skipping...\n",
      "City not found. Skipping...\n",
      "City not found. Skipping...\n",
      "City not found. Skipping...\n",
      "City not found. Skipping...\n",
      "City not found. Skipping...\n",
      "City not found. Skipping...\n",
      "City not found. Skipping...\n",
      "City not found. Skipping...\n",
      "City not found. Skipping...\n",
      "City not found. Skipping...\n",
      "City not found. Skipping...\n",
      "City not found. Skipping...\n",
      "City not found. Skipping...\n",
      "City not found. Skipping...\n",
      "City not found. Skipping...\n",
      "City not found. Skipping...\n",
      "City not found. Skipping...\n",
      "City not found. Skipping...\n",
      "City not found. Skipping...\n",
      "City not found. Skipping...\n",
      "City not found. Skipping...\n",
      "City not found. Skipping...\n",
      "City not found. Skipping...\n",
      "City not found. Skipping...\n",
      "City not found. Skipping...\n",
      "City not found. Skipping...\n",
      "City not found. Skipping...\n",
      "City not found. Skipping...\n",
      "City not found. Skipping...\n",
      "City not found. Skipping...\n",
      "City not found. Skipping...\n",
      "City not found. Skipping...\n",
      "City not found. Skipping...\n",
      "-----------------------------\n",
      "Data Retrieval Complete      \n",
      "-----------------------------\n"
     ]
    }
   ],
   "source": [
    "#url for weather map api\n",
    "weather_map_url = f'https://api.openweathermap.org/data/2.5/weather?&units=imperial&appid={weather_api_key}'\n",
    "#create lists/columns\n",
    "city_name = []\n",
    "lat = []\n",
    "lng = []\n",
    "max_temp = []\n",
    "humidity = []\n",
    "cloudiness = []\n",
    "wind_speed = []\n",
    "country = []\n",
    "date = []\n",
    "record = 1\n",
    "record_set = 1\n",
    "\n",
    "#print statement for data retrieval\n",
    "print('Beginning Data Retrieval')\n",
    "print('-----------------------------')\n",
    "\n",
    "for city in cities:\n",
    "    try:\n",
    "        #pull info of each city from api into json\n",
    "        response = requests.get(f'{weather_map_url}&q={city}').json()\n",
    "        \n",
    "        #append to each list except for city\n",
    "        lat.append(response['coord']['lat'])\n",
    "        lng.append(response['coord']['lon'])\n",
    "        max_temp.append(response['main']['temp_max'])\n",
    "        humidity.append(response['main']['humidity'])\n",
    "        cloudiness.append(response['clouds']['all'])\n",
    "        wind_speed.append(response['wind']['speed'])\n",
    "        country.append(response['sys']['country'])\n",
    "        date.append(response['dt'])\n",
    "        #if count record hits 50 then move to next set and reset count to 1, else keep counting to 50 cities\n",
    "        if record > 49:\n",
    "            record = 1\n",
    "            record_set += 1\n",
    "            city_name.append(city)\n",
    "        else:\n",
    "            record += 1\n",
    "            city_name.append(city)\n",
    "        print(f'Processing Record {record} of Set {record_set} | {city}')\n",
    "    except:\n",
    "        print('City not found. Skipping...')\n",
    "print('''-----------------------------\n",
    "Data Retrieval Complete      \n",
    "-----------------------------''')"
   ]
  },
  {
   "cell_type": "markdown",
   "metadata": {},
   "source": [
    "### Convert Raw Data to DataFrame\n",
    "* Export the city data into a .csv.\n",
    "* Display the DataFrame"
   ]
  },
  {
   "cell_type": "code",
   "execution_count": 7,
   "metadata": {},
   "outputs": [
    {
     "data": {
      "text/html": [
       "<div>\n",
       "<style scoped>\n",
       "    .dataframe tbody tr th:only-of-type {\n",
       "        vertical-align: middle;\n",
       "    }\n",
       "\n",
       "    .dataframe tbody tr th {\n",
       "        vertical-align: top;\n",
       "    }\n",
       "\n",
       "    .dataframe thead th {\n",
       "        text-align: right;\n",
       "    }\n",
       "</style>\n",
       "<table border=\"1\" class=\"dataframe\">\n",
       "  <thead>\n",
       "    <tr style=\"text-align: right;\">\n",
       "      <th></th>\n",
       "      <th>City</th>\n",
       "      <th>Lat</th>\n",
       "      <th>Lng</th>\n",
       "      <th>Max Temp</th>\n",
       "      <th>Humidity</th>\n",
       "      <th>Cloudiness</th>\n",
       "      <th>Wind Speed</th>\n",
       "      <th>Country</th>\n",
       "      <th>Date</th>\n",
       "    </tr>\n",
       "  </thead>\n",
       "  <tbody>\n",
       "    <tr>\n",
       "      <th>0</th>\n",
       "      <td>hosanagara</td>\n",
       "      <td>13.9167</td>\n",
       "      <td>75.0667</td>\n",
       "      <td>60.24</td>\n",
       "      <td>40</td>\n",
       "      <td>1</td>\n",
       "      <td>3.96</td>\n",
       "      <td>IN</td>\n",
       "      <td>1673472117</td>\n",
       "    </tr>\n",
       "    <tr>\n",
       "      <th>1</th>\n",
       "      <td>albany</td>\n",
       "      <td>42.6001</td>\n",
       "      <td>-73.9662</td>\n",
       "      <td>30.94</td>\n",
       "      <td>65</td>\n",
       "      <td>100</td>\n",
       "      <td>3.20</td>\n",
       "      <td>US</td>\n",
       "      <td>1673472108</td>\n",
       "    </tr>\n",
       "    <tr>\n",
       "      <th>2</th>\n",
       "      <td>rikitea</td>\n",
       "      <td>-23.1203</td>\n",
       "      <td>-134.9692</td>\n",
       "      <td>78.48</td>\n",
       "      <td>77</td>\n",
       "      <td>20</td>\n",
       "      <td>17.72</td>\n",
       "      <td>PF</td>\n",
       "      <td>1673472118</td>\n",
       "    </tr>\n",
       "    <tr>\n",
       "      <th>3</th>\n",
       "      <td>port alfred</td>\n",
       "      <td>-33.5906</td>\n",
       "      <td>26.8910</td>\n",
       "      <td>73.18</td>\n",
       "      <td>95</td>\n",
       "      <td>52</td>\n",
       "      <td>1.01</td>\n",
       "      <td>ZA</td>\n",
       "      <td>1673472118</td>\n",
       "    </tr>\n",
       "    <tr>\n",
       "      <th>4</th>\n",
       "      <td>collie</td>\n",
       "      <td>-33.3667</td>\n",
       "      <td>116.1500</td>\n",
       "      <td>53.06</td>\n",
       "      <td>95</td>\n",
       "      <td>2</td>\n",
       "      <td>3.89</td>\n",
       "      <td>AU</td>\n",
       "      <td>1673472119</td>\n",
       "    </tr>\n",
       "    <tr>\n",
       "      <th>...</th>\n",
       "      <td>...</td>\n",
       "      <td>...</td>\n",
       "      <td>...</td>\n",
       "      <td>...</td>\n",
       "      <td>...</td>\n",
       "      <td>...</td>\n",
       "      <td>...</td>\n",
       "      <td>...</td>\n",
       "      <td>...</td>\n",
       "    </tr>\n",
       "    <tr>\n",
       "      <th>287</th>\n",
       "      <td>george</td>\n",
       "      <td>-33.9630</td>\n",
       "      <td>22.4617</td>\n",
       "      <td>71.15</td>\n",
       "      <td>94</td>\n",
       "      <td>100</td>\n",
       "      <td>3.44</td>\n",
       "      <td>ZA</td>\n",
       "      <td>1673472280</td>\n",
       "    </tr>\n",
       "    <tr>\n",
       "      <th>288</th>\n",
       "      <td>santa marinella</td>\n",
       "      <td>42.0345</td>\n",
       "      <td>11.8536</td>\n",
       "      <td>49.71</td>\n",
       "      <td>78</td>\n",
       "      <td>88</td>\n",
       "      <td>7.16</td>\n",
       "      <td>IT</td>\n",
       "      <td>1673472281</td>\n",
       "    </tr>\n",
       "    <tr>\n",
       "      <th>289</th>\n",
       "      <td>half moon bay</td>\n",
       "      <td>37.4636</td>\n",
       "      <td>-122.4286</td>\n",
       "      <td>57.29</td>\n",
       "      <td>92</td>\n",
       "      <td>100</td>\n",
       "      <td>23.02</td>\n",
       "      <td>US</td>\n",
       "      <td>1673472228</td>\n",
       "    </tr>\n",
       "    <tr>\n",
       "      <th>290</th>\n",
       "      <td>lashio</td>\n",
       "      <td>22.9333</td>\n",
       "      <td>97.7500</td>\n",
       "      <td>47.23</td>\n",
       "      <td>88</td>\n",
       "      <td>0</td>\n",
       "      <td>1.05</td>\n",
       "      <td>MM</td>\n",
       "      <td>1673472283</td>\n",
       "    </tr>\n",
       "    <tr>\n",
       "      <th>291</th>\n",
       "      <td>harrisonville</td>\n",
       "      <td>38.6533</td>\n",
       "      <td>-94.3488</td>\n",
       "      <td>57.22</td>\n",
       "      <td>50</td>\n",
       "      <td>0</td>\n",
       "      <td>5.75</td>\n",
       "      <td>US</td>\n",
       "      <td>1673472285</td>\n",
       "    </tr>\n",
       "  </tbody>\n",
       "</table>\n",
       "<p>292 rows × 9 columns</p>\n",
       "</div>"
      ],
      "text/plain": [
       "                City      Lat       Lng  Max Temp  Humidity  Cloudiness  \\\n",
       "0         hosanagara  13.9167   75.0667     60.24        40           1   \n",
       "1             albany  42.6001  -73.9662     30.94        65         100   \n",
       "2            rikitea -23.1203 -134.9692     78.48        77          20   \n",
       "3        port alfred -33.5906   26.8910     73.18        95          52   \n",
       "4             collie -33.3667  116.1500     53.06        95           2   \n",
       "..               ...      ...       ...       ...       ...         ...   \n",
       "287           george -33.9630   22.4617     71.15        94         100   \n",
       "288  santa marinella  42.0345   11.8536     49.71        78          88   \n",
       "289    half moon bay  37.4636 -122.4286     57.29        92         100   \n",
       "290           lashio  22.9333   97.7500     47.23        88           0   \n",
       "291    harrisonville  38.6533  -94.3488     57.22        50           0   \n",
       "\n",
       "     Wind Speed Country        Date  \n",
       "0          3.96      IN  1673472117  \n",
       "1          3.20      US  1673472108  \n",
       "2         17.72      PF  1673472118  \n",
       "3          1.01      ZA  1673472118  \n",
       "4          3.89      AU  1673472119  \n",
       "..          ...     ...         ...  \n",
       "287        3.44      ZA  1673472280  \n",
       "288        7.16      IT  1673472281  \n",
       "289       23.02      US  1673472228  \n",
       "290        1.05      MM  1673472283  \n",
       "291        5.75      US  1673472285  \n",
       "\n",
       "[292 rows x 9 columns]"
      ]
     },
     "execution_count": 7,
     "metadata": {},
     "output_type": "execute_result"
    }
   ],
   "source": [
    "# create a dataframe\n",
    "weather_df = pd.DataFrame({\"City\": city_name,\"Lat\": lat,\"Lng\":lng, \n",
    "                           \"Max Temp\":max_temp, \"Humidity\":humidity, \"Cloudiness\":cloudiness, \n",
    "                           \"Wind Speed\":wind_speed,\"Country\":country, \"Date\":date})\n",
    "weather_df\n"
   ]
  },
  {
   "cell_type": "code",
   "execution_count": 9,
   "metadata": {},
   "outputs": [],
   "source": [
    "weather_df.head()\n",
    "weather_df.to_csv(\"../output_data/weather_df.csv\")\n"
   ]
  },
  {
   "cell_type": "markdown",
   "metadata": {},
   "source": [
    "## Inspect the data and remove the cities where the humidity > 100%.\n",
    "----\n",
    "Skip this step if there are no cities that have humidity > 100%. "
   ]
  },
  {
   "cell_type": "code",
   "execution_count": 12,
   "metadata": {},
   "outputs": [],
   "source": [
    "humidity_over_100 = weather_df[(weather_df[\"Humidity\"]>100)].index\n"
   ]
  },
  {
   "cell_type": "code",
   "execution_count": null,
   "metadata": {},
   "outputs": [],
   "source": []
  },
  {
   "cell_type": "code",
   "execution_count": 13,
   "metadata": {},
   "outputs": [
    {
     "data": {
      "text/plain": [
       "Int64Index([], dtype='int64')"
      ]
     },
     "execution_count": 13,
     "metadata": {},
     "output_type": "execute_result"
    }
   ],
   "source": [
    "#  Get the indices of cities that have humidity over 100%.\n",
    "humidity_over_100 \n"
   ]
  },
  {
   "cell_type": "code",
   "execution_count": 15,
   "metadata": {},
   "outputs": [
    {
     "data": {
      "text/html": [
       "<div>\n",
       "<style scoped>\n",
       "    .dataframe tbody tr th:only-of-type {\n",
       "        vertical-align: middle;\n",
       "    }\n",
       "\n",
       "    .dataframe tbody tr th {\n",
       "        vertical-align: top;\n",
       "    }\n",
       "\n",
       "    .dataframe thead th {\n",
       "        text-align: right;\n",
       "    }\n",
       "</style>\n",
       "<table border=\"1\" class=\"dataframe\">\n",
       "  <thead>\n",
       "    <tr style=\"text-align: right;\">\n",
       "      <th></th>\n",
       "      <th>City</th>\n",
       "      <th>Lat</th>\n",
       "      <th>Lng</th>\n",
       "      <th>Max Temp</th>\n",
       "      <th>Humidity</th>\n",
       "      <th>Cloudiness</th>\n",
       "      <th>Wind Speed</th>\n",
       "      <th>Country</th>\n",
       "      <th>Date</th>\n",
       "    </tr>\n",
       "  </thead>\n",
       "  <tbody>\n",
       "    <tr>\n",
       "      <th>0</th>\n",
       "      <td>hosanagara</td>\n",
       "      <td>13.9167</td>\n",
       "      <td>75.0667</td>\n",
       "      <td>60.24</td>\n",
       "      <td>40</td>\n",
       "      <td>1</td>\n",
       "      <td>3.96</td>\n",
       "      <td>IN</td>\n",
       "      <td>1673472117</td>\n",
       "    </tr>\n",
       "    <tr>\n",
       "      <th>1</th>\n",
       "      <td>albany</td>\n",
       "      <td>42.6001</td>\n",
       "      <td>-73.9662</td>\n",
       "      <td>30.94</td>\n",
       "      <td>65</td>\n",
       "      <td>100</td>\n",
       "      <td>3.20</td>\n",
       "      <td>US</td>\n",
       "      <td>1673472108</td>\n",
       "    </tr>\n",
       "    <tr>\n",
       "      <th>2</th>\n",
       "      <td>rikitea</td>\n",
       "      <td>-23.1203</td>\n",
       "      <td>-134.9692</td>\n",
       "      <td>78.48</td>\n",
       "      <td>77</td>\n",
       "      <td>20</td>\n",
       "      <td>17.72</td>\n",
       "      <td>PF</td>\n",
       "      <td>1673472118</td>\n",
       "    </tr>\n",
       "    <tr>\n",
       "      <th>3</th>\n",
       "      <td>port alfred</td>\n",
       "      <td>-33.5906</td>\n",
       "      <td>26.8910</td>\n",
       "      <td>73.18</td>\n",
       "      <td>95</td>\n",
       "      <td>52</td>\n",
       "      <td>1.01</td>\n",
       "      <td>ZA</td>\n",
       "      <td>1673472118</td>\n",
       "    </tr>\n",
       "    <tr>\n",
       "      <th>4</th>\n",
       "      <td>collie</td>\n",
       "      <td>-33.3667</td>\n",
       "      <td>116.1500</td>\n",
       "      <td>53.06</td>\n",
       "      <td>95</td>\n",
       "      <td>2</td>\n",
       "      <td>3.89</td>\n",
       "      <td>AU</td>\n",
       "      <td>1673472119</td>\n",
       "    </tr>\n",
       "  </tbody>\n",
       "</table>\n",
       "</div>"
      ],
      "text/plain": [
       "          City      Lat       Lng  Max Temp  Humidity  Cloudiness  Wind Speed  \\\n",
       "0   hosanagara  13.9167   75.0667     60.24        40           1        3.96   \n",
       "1       albany  42.6001  -73.9662     30.94        65         100        3.20   \n",
       "2      rikitea -23.1203 -134.9692     78.48        77          20       17.72   \n",
       "3  port alfred -33.5906   26.8910     73.18        95          52        1.01   \n",
       "4       collie -33.3667  116.1500     53.06        95           2        3.89   \n",
       "\n",
       "  Country        Date  \n",
       "0      IN  1673472117  \n",
       "1      US  1673472108  \n",
       "2      PF  1673472118  \n",
       "3      ZA  1673472118  \n",
       "4      AU  1673472119  "
      ]
     },
     "execution_count": 15,
     "metadata": {},
     "output_type": "execute_result"
    }
   ],
   "source": [
    "# Make a new DataFrame equal to the city data to drop all humidity outliers by index.\n",
    "# Passing \"inplace=False\" will make a copy of the city_data DataFrame, which we call \"clean_city_data\".\n",
    "clean_city_data = weather_df.drop(humidity_over_100,inplace = False)\n",
    "clean_city_data.head()"
   ]
  },
  {
   "cell_type": "code",
   "execution_count": null,
   "metadata": {},
   "outputs": [],
   "source": [
    "\n"
   ]
  },
  {
   "cell_type": "markdown",
   "metadata": {},
   "source": [
    "## Plotting the Data\n",
    "* Use proper labeling of the plots using plot titles (including date of analysis) and axes labels.\n",
    "* Save the plotted figures as .pngs."
   ]
  },
  {
   "cell_type": "markdown",
   "metadata": {},
   "source": [
    "## Latitude vs. Temperature Plot"
   ]
  },
  {
   "cell_type": "code",
   "execution_count": 21,
   "metadata": {
    "scrolled": true
   },
   "outputs": [
    {
     "data": {
      "image/png": "[encoded data removed]",
      "text/plain": [
       "<Figure size 432x288 with 1 Axes>"
      ]
     },
     "metadata": {
      "needs_background": "light"
     },
     "output_type": "display_data"
    }
   ],
   "source": [
    "plt.ioff\n",
    "fig1 = plt.scatter(clean_city_data[\"Lat\"],clean_city_data[\"Max Temp\"],\n",
    "            edgecolor = \"black\",linewidth = 1, alpha = 0.75,marker = \"o\")\n",
    "plt.title(f\"City Latitude vs. Max Temperature\")\n",
    "plt.ylabel(\"Max Temperature (°F)\")\n",
    "plt.xlabel(\"Latitude\")\n",
    "plt.grid(True)\n",
    "plt.savefig('../output_data/fig1.png')\n",
    "plt.show()"
   ]
  },
  {
   "cell_type": "markdown",
   "metadata": {},
   "source": [
    "## Latitude vs. Humidity Plot"
   ]
  },
  {
   "cell_type": "code",
   "execution_count": 22,
   "metadata": {},
   "outputs": [
    {
     "data": {
      "image/png": "[encoded data removed]",
      "text/plain": [
       "<Figure size 432x288 with 1 Axes>"
      ]
     },
     "metadata": {
      "needs_background": "light"
     },
     "output_type": "display_data"
    }
   ],
   "source": [
    "fig2 = plt.scatter(clean_city_data[\"Lat\"],clean_city_data[\"Humidity\"],\n",
    "            edgecolor = \"black\",linewidth = 1, alpha = 0.75,marker = \"o\")\n",
    "plt.title(f\"City Latitude vs. Humidity\")\n",
    "plt.ylabel(\"Humidity (%)\")\n",
    "plt.xlabel(\"Latitude\")\n",
    "plt.grid(True)\n",
    "plt.savefig('../output_data/fig2.png')\n",
    "plt.show()"
   ]
  },
  {
   "cell_type": "markdown",
   "metadata": {},
   "source": [
    "## Latitude vs. Cloudiness Plot"
   ]
  },
  {
   "cell_type": "code",
   "execution_count": 23,
   "metadata": {},
   "outputs": [
    {
     "data": {
      "image/png": "[encoded data removed]",
      "text/plain": [
       "<Figure size 432x288 with 1 Axes>"
      ]
     },
     "metadata": {
      "needs_background": "light"
     },
     "output_type": "display_data"
    }
   ],
   "source": [
    "fig3 = plt.scatter(clean_city_data[\"Lat\"],clean_city_data[\"Cloudiness\"],\n",
    "            edgecolor = \"black\",linewidth = 1, alpha = 0.75,marker = \"o\")\n",
    "plt.title(f\"City Latitude vs. Cloudiness\")\n",
    "plt.ylabel(\"Cloudiness (%)\")\n",
    "plt.xlabel(\"Latitude\")\n",
    "plt.grid(True)\n",
    "plt.savefig('../output_data/fig3.png')\n",
    "plt.show()"
   ]
  },
  {
   "cell_type": "markdown",
   "metadata": {},
   "source": [
    "## Latitude vs. Wind Speed Plot"
   ]
  },
  {
   "cell_type": "code",
   "execution_count": 24,
   "metadata": {},
   "outputs": [
    {
     "data": {
      "image/png": "[encoded data removed]",
      "text/plain": [
       "<Figure size 432x288 with 1 Axes>"
      ]
     },
     "metadata": {
      "needs_background": "light"
     },
     "output_type": "display_data"
    }
   ],
   "source": [
    "fig4 = plt.scatter(clean_city_data[\"Lat\"],clean_city_data[\"Wind Speed\"],\n",
    "            edgecolor = \"black\",linewidth = 1, alpha = 0.75,marker = \"o\")\n",
    "plt.title(f\"City Latitude vs. Wind Speed\")\n",
    "plt.ylabel(\"Wind Speed (mph)\")\n",
    "plt.xlabel(\"Latitude\")\n",
    "plt.grid(True)\n",
    "plt.savefig('../output_data/fig4.png')\n",
    "plt.show()"
   ]
  },
  {
   "cell_type": "markdown",
   "metadata": {},
   "source": [
    "## Linear Regression"
   ]
  },
  {
   "cell_type": "code",
   "execution_count": 36,
   "metadata": {},
   "outputs": [],
   "source": [
    "northen_hemispere = clean_city_data.loc[clean_city_data['Lat'] > 0]\n",
    "southern_hemisphere = clean_city_data.loc[clean_city_data['Lat'] < 0]\n",
    "                    \n",
    "def plot_lin_regression(x_values,y_values,xtitle,ytitle,x_coord, y_coord):\n",
    "    #lin regression\n",
    "    (slope, intercept, rvalue, pvalue, stderr) = linregress(x_values, y_values)\n",
    "    regress_value = x_values * slope + intercept\n",
    "    line_equation = \"y = \" + str(round(slope,2)) + \"x + \" + str(round(intercept,2))\n",
    "    print(f\"The r-squared is: {rvalue**2}\")\n",
    "    print(line_equation)\n",
    "\n",
    "    plt.scatter(x_values, y_values)\n",
    "    plt.plot(x_values, regress_value, 'r-')\n",
    "    plt.annotate(line_equation, (x_coord, y_coord), fontsize = 20, color = \"red\")\n",
    "    plt.xlabel(xtitle)\n",
    "    plt.ylabel(ytitle)\n",
    "    plt.grid(True)"
   ]
  },
  {
   "cell_type": "markdown",
   "metadata": {},
   "source": [
    "####  Northern Hemisphere - Max Temp vs. Latitude Linear Regression"
   ]
  },
  {
   "cell_type": "code",
   "execution_count": 37,
   "metadata": {},
   "outputs": [
    {
     "name": "stdout",
     "output_type": "stream",
     "text": [
      "The r-squared is: 0.7226582313597245\n",
      "y = -1.45x + 95.06\n"
     ]
    },
    {
     "data": {
      "image/png": "[encoded data removed]",
      "text/plain": [
       "<Figure size 432x288 with 1 Axes>"
      ]
     },
     "metadata": {
      "needs_background": "light"
     },
     "output_type": "display_data"
    }
   ],
   "source": [
    "x_values = northen_hemispere['Lat']\n",
    "y_values = northen_hemispere['Max Temp']\n",
    "\n",
    "plot_lin_regression(x_values, y_values, 'Latitude', 'Max Temp', 0,35)\n",
    "plt.show()"
   ]
  },
  {
   "cell_type": "markdown",
   "metadata": {},
   "source": [
    "####  Southern Hemisphere - Max Temp vs. Latitude Linear Regression"
   ]
  },
  {
   "cell_type": "code",
   "execution_count": 38,
   "metadata": {},
   "outputs": [
    {
     "name": "stdout",
     "output_type": "stream",
     "text": [
      "The r-squared is: 0.43210272222584\n",
      "y = 0.42x + 82.27\n"
     ]
    },
    {
     "data": {
      "image/png": "[encoded data removed]",
      "text/plain": [
       "<Figure size 432x288 with 1 Axes>"
      ]
     },
     "metadata": {
      "needs_background": "light"
     },
     "output_type": "display_data"
    }
   ],
   "source": [
    "x_values = southern_hemisphere['Lat']\n",
    "y_values = southern_hemisphere['Max Temp']\n",
    "\n",
    "plot_lin_regression(x_values, y_values, 'Latitude', 'Max Temp', -50, 80)\n",
    "plt.show()"
   ]
  },
  {
   "cell_type": "markdown",
   "metadata": {},
   "source": [
    "####  Northern Hemisphere - Humidity (%) vs. Latitude Linear Regression"
   ]
  },
  {
   "cell_type": "code",
   "execution_count": 39,
   "metadata": {},
   "outputs": [
    {
     "name": "stdout",
     "output_type": "stream",
     "text": [
      "The r-squared is: 0.18727607463842874\n",
      "y = 0.5x + 53.09\n"
     ]
    },
    {
     "data": {
      "image/png": "[encoded data removed]",
      "text/plain": [
       "<Figure size 432x288 with 1 Axes>"
      ]
     },
     "metadata": {
      "needs_background": "light"
     },
     "output_type": "display_data"
    }
   ],
   "source": [
    "x_values = northen_hemispere['Lat']\n",
    "y_values = northen_hemispere['Humidity']\n",
    "\n",
    "plot_lin_regression(x_values, y_values, 'Latitude', 'Humidity', 10, 4)\n",
    "plt.show()"
   ]
  },
  {
   "cell_type": "markdown",
   "metadata": {},
   "source": [
    "####  Southern Hemisphere - Humidity (%) vs. Latitude Linear Regression"
   ]
  },
  {
   "cell_type": "code",
   "execution_count": 40,
   "metadata": {},
   "outputs": [
    {
     "name": "stdout",
     "output_type": "stream",
     "text": [
      "The r-squared is: 0.07849639886965366\n",
      "y = 0.34x + 85.38\n"
     ]
    },
    {
     "data": {
      "image/png": "[encoded data removed]",
      "text/plain": [
       "<Figure size 432x288 with 1 Axes>"
      ]
     },
     "metadata": {
      "needs_background": "light"
     },
     "output_type": "display_data"
    }
   ],
   "source": [
    "x_values = southern_hemisphere['Lat']\n",
    "y_values = southern_hemisphere['Humidity']\n",
    "\n",
    "plot_lin_regression(x_values, y_values, 'Latitude', 'Humidity', -50, 25)\n",
    "plt.show()"
   ]
  },
  {
   "cell_type": "markdown",
   "metadata": {},
   "source": [
    "####  Northern Hemisphere - Cloudiness (%) vs. Latitude Linear Regression"
   ]
  },
  {
   "cell_type": "code",
   "execution_count": 41,
   "metadata": {},
   "outputs": [
    {
     "name": "stdout",
     "output_type": "stream",
     "text": [
      "The r-squared is: 0.16781255660833708\n",
      "y = 0.82x + 26.2\n"
     ]
    },
    {
     "data": {
      "image/png": "[encoded data removed]",
      "text/plain": [
       "<Figure size 432x288 with 1 Axes>"
      ]
     },
     "metadata": {
      "needs_background": "light"
     },
     "output_type": "display_data"
    }
   ],
   "source": [
    "x_values = northen_hemispere['Lat']\n",
    "y_values = northen_hemispere['Cloudiness']\n",
    "\n",
    "plot_lin_regression(x_values, y_values, 'Latitude', 'Cloudiness', 30, 10)\n",
    "plt.show()"
   ]
  },
  {
   "cell_type": "markdown",
   "metadata": {},
   "source": [
    "####  Southern Hemisphere - Cloudiness (%) vs. Latitude Linear Regression"
   ]
  },
  {
   "cell_type": "code",
   "execution_count": 42,
   "metadata": {},
   "outputs": [
    {
     "name": "stdout",
     "output_type": "stream",
     "text": [
      "The r-squared is: 0.11294989951736957\n",
      "y = 0.9x + 83.56\n"
     ]
    },
    {
     "data": {
      "image/png": "[encoded data removed]",
      "text/plain": [
       "<Figure size 432x288 with 1 Axes>"
      ]
     },
     "metadata": {
      "needs_background": "light"
     },
     "output_type": "display_data"
    }
   ],
   "source": [
    "x_values = southern_hemisphere['Lat']\n",
    "y_values = southern_hemisphere['Cloudiness']\n",
    "\n",
    "plot_lin_regression(x_values, y_values, 'Latitude', 'Cloudiness', -50, 80)\n",
    "plt.show()"
   ]
  },
  {
   "cell_type": "markdown",
   "metadata": {},
   "source": [
    "####  Northern Hemisphere - Wind Speed (mph) vs. Latitude Linear Regression"
   ]
  },
  {
   "cell_type": "code",
   "execution_count": 45,
   "metadata": {},
   "outputs": [
    {
     "name": "stdout",
     "output_type": "stream",
     "text": [
      "The r-squared is: 0.002381957791874589\n",
      "y = 0.02x + 8.7\n"
     ]
    },
    {
     "data": {
      "image/png": "[encoded data removed]",
      "text/plain": [
       "<Figure size 432x288 with 1 Axes>"
      ]
     },
     "metadata": {
      "needs_background": "light"
     },
     "output_type": "display_data"
    }
   ],
   "source": [
    "x_values = northen_hemispere['Lat']\n",
    "y_values = northen_hemispere['Wind Speed']\n",
    "\n",
    "plot_lin_regression(x_values, y_values, 'Latitude', 'Wind Speed', 35, 20)\n",
    "plt.show()"
   ]
  },
  {
   "cell_type": "markdown",
   "metadata": {},
   "source": [
    "####  Southern Hemisphere - Wind Speed (mph) vs. Latitude Linear Regression"
   ]
  },
  {
   "cell_type": "code",
   "execution_count": 46,
   "metadata": {},
   "outputs": [
    {
     "name": "stdout",
     "output_type": "stream",
     "text": [
      "The r-squared is: 0.13882569838862663\n",
      "y = -0.14x + 4.78\n"
     ]
    },
    {
     "data": {
      "image/png": "[encoded data removed]",
      "text/plain": [
       "<Figure size 432x288 with 1 Axes>"
      ]
     },
     "metadata": {
      "needs_background": "light"
     },
     "output_type": "display_data"
    }
   ],
   "source": [
    "x_values = southern_hemisphere['Lat']\n",
    "y_values = southern_hemisphere['Wind Speed']\n",
    "plot_lin_regression(x_values, y_values, 'Latitude', 'Wind Speed', -55, 18)\n",
    "plt.show()"
   ]
  },
  {
   "cell_type": "code",
   "execution_count": null,
   "metadata": {},
   "outputs": [],
   "source": []
  }
 ],
 "metadata": {
  "anaconda-cloud": {},
  "kernel_info": {
   "name": "python3"
  },
  "kernelspec": {
   "display_name": "Python 3 (ipykernel)",
   "language": "python",
   "name": "python3"
  },
  "language_info": {
   "codemirror_mode": {
    "name": "ipython",
    "version": 3
   },
   "file_extension": ".py",
   "mimetype": "text/x-python",
   "name": "python",
   "nbconvert_exporter": "python",
   "pygments_lexer": "ipython3",
   "version": "3.9.12"
  },
  "latex_envs": {
   "LaTeX_envs_menu_present": true,
   "autoclose": false,
   "autocomplete": true,
   "bibliofile": "biblio.bib",
   "cite_by": "apalike",
   "current_citInitial": 1,
   "eqLabelWithNumbers": true,
   "eqNumInitial": 1,
   "hotkeys": {
    "equation": "Ctrl-E",
    "itemize": "Ctrl-I"
   },
   "labels_anchors": false,
   "latex_user_defs": false,
   "report_style_numbering": false,
   "user_envs_cfg": false
  },
  "nteract": {
   "version": "0.12.3"
  }
 },
 "nbformat": 4,
 "nbformat_minor": 2
}
